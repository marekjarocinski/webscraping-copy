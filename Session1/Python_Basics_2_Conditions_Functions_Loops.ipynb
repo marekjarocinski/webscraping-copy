{
 "cells": [
  {
   "cell_type": "markdown",
   "metadata": {
    "collapsed": true,
    "slideshow": {
     "slide_type": "slide"
    }
   },
   "source": [
    "# Conditions, Functions and Loops"
   ]
  },
  {
   "cell_type": "markdown",
   "metadata": {
    "slideshow": {
     "slide_type": "subslide"
    }
   },
   "source": [
    "## Conditions"
   ]
  },
  {
   "cell_type": "markdown",
   "metadata": {
    "slideshow": {
     "slide_type": "fragment"
    }
   },
   "source": [
    "### `if`\n",
    "\n",
    "\n",
    "`if` checks a condition and performs an operation as instructed if the condition is met.\n",
    "\n",
    "`else` needs to be followed after `if`. Executes an instruction in case the former `if` condition was not met.\n",
    "\n",
    "`elif` (is optional) follows `if` and precedes `else`. Checks an additional `if` condition."
   ]
  },
  {
   "cell_type": "code",
   "execution_count": null,
   "metadata": {
    "slideshow": {
     "slide_type": "subslide"
    }
   },
   "outputs": [],
   "source": []
  },
  {
   "cell_type": "code",
   "execution_count": null,
   "metadata": {
    "slideshow": {
     "slide_type": "subslide"
    }
   },
   "outputs": [],
   "source": []
  },
  {
   "cell_type": "code",
   "execution_count": null,
   "metadata": {
    "slideshow": {
     "slide_type": "subslide"
    }
   },
   "outputs": [],
   "source": []
  },
  {
   "cell_type": "markdown",
   "metadata": {
    "slideshow": {
     "slide_type": "subslide"
    }
   },
   "source": [
    "### Boolean expressions\n",
    "\n",
    "* `True` and `False`\n",
    "* `1` and `0`\n",
    "*  `None` is always meaning `False`\n",
    "* Empty objects (`[]`, `()`, `{}`, etc.) are always evaluated as `False`\n",
    "\n",
    "See [Python Docs](https://docs.python.org/3/library/stdtypes.html#truth-value-testing)"
   ]
  },
  {
   "cell_type": "code",
   "execution_count": null,
   "metadata": {
    "slideshow": {
     "slide_type": "subslide"
    }
   },
   "outputs": [],
   "source": []
  },
  {
   "cell_type": "markdown",
   "metadata": {
    "slideshow": {
     "slide_type": "subslide"
    }
   },
   "source": [
    "### Exercise 1\n",
    "\n",
    "Write a programme which checks whether an input string contains \"spam\" or not. In case that \"spam\" is identified (at least once), the programme should return the number of \"spam\" occurring as a substring. If there is no \"spam\" at all the programme should print such a hint."
   ]
  },
  {
   "cell_type": "code",
   "execution_count": null,
   "metadata": {
    "slideshow": {
     "slide_type": "subslide"
    }
   },
   "outputs": [],
   "source": [
    "# Code for Exercise 1\n",
    "\n"
   ]
  },
  {
   "cell_type": "markdown",
   "metadata": {
    "slideshow": {
     "slide_type": "subslide"
    }
   },
   "source": [
    "### Exercise 2 \n",
    "\n",
    "Write a programme that checks whether a number is divisible. If the number is divisable by 5 and 3, the programme should print such a hint. Furthermore, the programme should distinguish whether the input number is only divisible by 5, only by 3 or neither by 5 nor 3.\n",
    "\n",
    "*Input/Output example*: \n",
    "\n",
    "```    \n",
    "5   --> \"divisible through 5\"\n",
    "15  --> \"divisible through 5 AND 3\"\n",
    "2   --> \"divisible neither through 5 NOR 3\"\n",
    "```"
   ]
  },
  {
   "cell_type": "code",
   "execution_count": null,
   "metadata": {
    "slideshow": {
     "slide_type": "subslide"
    }
   },
   "outputs": [],
   "source": [
    "# Code Exercise 2\n"
   ]
  },
  {
   "cell_type": "markdown",
   "metadata": {
    "slideshow": {
     "slide_type": "slide"
    }
   },
   "source": [
    "## Defining functions"
   ]
  },
  {
   "cell_type": "markdown",
   "metadata": {
    "slideshow": {
     "slide_type": "subslide"
    }
   },
   "source": [
    "Functions in Python receive Input(s) and generate after processing it some output. Once defined and stored in the cache functions can readily be re-used."
   ]
  },
  {
   "cell_type": "code",
   "execution_count": null,
   "metadata": {
    "slideshow": {
     "slide_type": "subslide"
    }
   },
   "outputs": [],
   "source": []
  },
  {
   "cell_type": "markdown",
   "metadata": {
    "slideshow": {
     "slide_type": "subslide"
    }
   },
   "source": [
    "Self-defined functions are especially useful if particular tasks are repeatedly executed. - [DRY - Don't repeat yourself!](https://de.wikipedia.org/wiki/Don%E2%80%99t_repeat_yourself)\n",
    "\n",
    "As a rule of thumb: if a process is repeated >=3 times it is reasonable to write a function for it."
   ]
  },
  {
   "cell_type": "markdown",
   "metadata": {
    "slideshow": {
     "slide_type": "subslide"
    }
   },
   "source": [
    "### Exercise 3\n",
    "\n",
    "Write a function which returns for an abritrarily long list of numbers (input) the arithmetic mean across the list (output). *Hint: function* ``sum()`` \n",
    "\n",
    "*Bonus: Implement the function for the [Median](https://de.wikipedia.org/wiki/Median).*"
   ]
  },
  {
   "cell_type": "code",
   "execution_count": null,
   "metadata": {
    "slideshow": {
     "slide_type": "subslide"
    }
   },
   "outputs": [],
   "source": [
    "# Code Exercise 3\n",
    "\n"
   ]
  },
  {
   "cell_type": "markdown",
   "metadata": {
    "slideshow": {
     "slide_type": "slide"
    }
   },
   "source": [
    "## Loops\n",
    "\n",
    "An instruction to repeat an operation according to particular rules. Objects that are being handled in the function might be changed.\n",
    "\n",
    "Comes in two variants:\n",
    "\n",
    "* `while`- loop\n",
    "* `for`- loop\n",
    "\n",
    "See [Python Docs](https://docs.python.org/3/tutorial/controlflow.html)"
   ]
  },
  {
   "cell_type": "markdown",
   "metadata": {
    "slideshow": {
     "slide_type": "subslide"
    }
   },
   "source": [
    "### `while` - loops\n",
    "\n",
    "1. Check condition.\n",
    "2. In case (IF) condition true:\n",
    "    2. Perform operation.\n",
    "    2. Go to 1.\n",
    "3. In case condition not true:\n",
    "    3. End loop (an implict break)"
   ]
  },
  {
   "cell_type": "markdown",
   "metadata": {
    "slideshow": {
     "slide_type": "subslide"
    }
   },
   "source": [
    "### Example: [Fibonacci series](https://de.wikipedia.org/wiki/Fibonacci-Folge)\n",
    "\n",
    "$$  \n",
    "f_n =\n",
    "\\begin{cases}\n",
    "f_n = n,  & \\text{if $n \\le 2$} \\\\\n",
    "f_{n-1} + f_{n-2}, & \\text{if $n \\gt 2$}\n",
    "\\end{cases} \n",
    "$$\n",
    "\n",
    "$f = 0, 1, 1, 2, 3, 5, 8, 13, \\dots$"
   ]
  },
  {
   "cell_type": "code",
   "execution_count": null,
   "metadata": {
    "slideshow": {
     "slide_type": "fragment"
    }
   },
   "outputs": [],
   "source": []
  },
  {
   "cell_type": "markdown",
   "metadata": {
    "slideshow": {
     "slide_type": "subslide"
    }
   },
   "source": [
    "**Caution**: `while` loops can run *infinitely*, in case the checking condition is never evaluated as `False`:"
   ]
  },
  {
   "cell_type": "code",
   "execution_count": null,
   "metadata": {
    "slideshow": {
     "slide_type": "fragment"
    }
   },
   "outputs": [],
   "source": []
  },
  {
   "cell_type": "markdown",
   "metadata": {
    "slideshow": {
     "slide_type": "subslide"
    }
   },
   "source": [
    "In case a Notebook crashes or the execution of a cell takes too long, the computations can be manually interrupted by **Kernel -> Interrupt** and the Notebook and Kernel need to be restarted by **Kernel -> Restart**. All previous cached results will be lost."
   ]
  },
  {
   "cell_type": "markdown",
   "metadata": {
    "slideshow": {
     "slide_type": "subslide"
    }
   },
   "source": [
    "## `for` - loops\n",
    "\n",
    "`for` loops are the most useful instruments for processing of data. The basic principle:\n",
    "\n",
    "For every element in a sequence:\n",
    "    1. Perform operation\n",
    "    2. Continue with the next element\n",
    "    3. If no more elements:\n",
    "           End loop.\n",
    "    4. Else:\n",
    "           Go to 1."
   ]
  },
  {
   "cell_type": "code",
   "execution_count": null,
   "metadata": {
    "slideshow": {
     "slide_type": "subslide"
    }
   },
   "outputs": [],
   "source": []
  },
  {
   "cell_type": "markdown",
   "metadata": {
    "slideshow": {
     "slide_type": "subslide"
    }
   },
   "source": [
    "Returning the frequency of each word using a `for` loop:"
   ]
  },
  {
   "cell_type": "code",
   "execution_count": null,
   "metadata": {
    "slideshow": {
     "slide_type": "fragment"
    }
   },
   "outputs": [],
   "source": []
  },
  {
   "cell_type": "code",
   "execution_count": null,
   "metadata": {
    "slideshow": {
     "slide_type": "fragment"
    }
   },
   "outputs": [],
   "source": [
    "# Strings that are opened and closed by ''' may contain line breaks (as initialized above)\n"
   ]
  },
  {
   "cell_type": "code",
   "execution_count": null,
   "metadata": {
    "slideshow": {
     "slide_type": "fragment"
    }
   },
   "outputs": [],
   "source": []
  },
  {
   "cell_type": "code",
   "execution_count": null,
   "metadata": {
    "scrolled": false,
    "slideshow": {
     "slide_type": "subslide"
    }
   },
   "outputs": [],
   "source": [
    "## Print frequency of words:\n"
   ]
  },
  {
   "cell_type": "markdown",
   "metadata": {
    "slideshow": {
     "slide_type": "subslide"
    }
   },
   "source": [
    "### Exercise 4\n",
    "\n",
    "Write a programme which takes a list of integers as input and returns for an even number its squared value and for an odd number the number itself.\n",
    "\n",
    "4 -> squared(4)    \n",
    "5 -> 5"
   ]
  },
  {
   "cell_type": "code",
   "execution_count": null,
   "metadata": {
    "slideshow": {
     "slide_type": "subslide"
    }
   },
   "outputs": [],
   "source": [
    "# Code for Exercise 4\n"
   ]
  },
  {
   "cell_type": "code",
   "execution_count": null,
   "metadata": {},
   "outputs": [],
   "source": []
  },
  {
   "cell_type": "code",
   "execution_count": null,
   "metadata": {},
   "outputs": [],
   "source": []
  },
  {
   "cell_type": "markdown",
   "metadata": {},
   "source": [
    "<br>\n",
    "<br>\n",
    "\n",
    "\n",
    "___\n",
    "\n",
    "                \n",
    "**Contact: Gerome Wolf** (Email: Gerome.Wolf@ecb.europa.eu, wolfgerome@gmail.com)"
   ]
  }
 ],
 "metadata": {
  "celltoolbar": "Slideshow",
  "kernelspec": {
   "display_name": "Webscraping Workshop copy",
   "language": "python",
   "name": "webscraping-kernel"
  },
  "language_info": {
   "codemirror_mode": {
    "name": "ipython",
    "version": 3
   },
   "file_extension": ".py",
   "mimetype": "text/x-python",
   "name": "python",
   "nbconvert_exporter": "python",
   "pygments_lexer": "ipython3",
   "version": "3.9.6"
  }
 },
 "nbformat": 4,
 "nbformat_minor": 2
}

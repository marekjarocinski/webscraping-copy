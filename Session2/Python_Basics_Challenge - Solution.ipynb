{
 "cells": [
  {
   "cell_type": "markdown",
   "metadata": {
    "slideshow": {
     "slide_type": "slide"
    }
   },
   "source": [
    "## Python Basics - Challenge"
   ]
  },
  {
   "cell_type": "markdown",
   "metadata": {
    "slideshow": {
     "slide_type": "fragment"
    }
   },
   "source": [
    "\n",
    "\n",
    "- The file `guardian_articles_corona.json` contains utf-8 encoded articles for the search term *coronavirus* in the year 2020 from the [The Guardian API](http://open-platform.theguardian.com/)  (retrieved 13/05/2020)\n",
    "- The objective is to simplify the data structure such that analyses can be run afterwards\n",
    "- Make use of the exercises and notebooks we have discussed previously\n",
    "- The challenge is much more comprehensive than the other tasks. It's OK if the solution takes more time. You might also want to tackle the challenge in your groups."
   ]
  },
  {
   "cell_type": "markdown",
   "metadata": {
    "slideshow": {
     "slide_type": "skip"
    }
   },
   "source": [
    "### 1.\n",
    "\n",
    "Download the `JSON` file, read it into Python and familiarise yourself with the data structure. How many artciles does the file contain? \n",
    "\n",
    "### 2. \n",
    "\n",
    "Write a function to process the list with articles. Simplify the data structure according to the following Input / Output example:\n",
    "\n",
    "**Input:**\n",
    "\n",
    "```\n",
    "{\n",
    "    'id': 'world/2020/may/08/coronavirus-the-week-explained',\n",
    "    'type\": 'article',\n",
    "    'sectionId': \"world',\n",
    "    'sectionName': 'World news',\n",
    "    'webPublicationDate': '2020-05-08T10:54:45Z',\n",
    "    'webTitle': 'Coronavirus: the week explained',\n",
    "    'webUrl': 'https://www.theguardian.com/world/2020/may/08/coronavirus-the-week-explained',\n",
    "    'apiUrl': 'https://content.guardianapis.com/world/2020/may/08/coronavirus-the-week-explained',\n",
    "    'fields': {\n",
    "      'bodyText': 'Welcome to our weekly roundup of developments in the coronavirus pandemic, which continues ...',\n",
    "      'charCount': '6139'},     \n",
    "   'tags': \n",
    "   [{'id': 'world/coronavirus-outbreak',\n",
    "   'type': 'keyword',\n",
    "   'sectionId': 'world',\n",
    "   'sectionName': 'World news',\n",
    "   'webTitle': 'Coronavirus outbreak',\n",
    "   'webUrl': 'https://www.theguardian.com/world/coronavirus-outbreak',\n",
    "   'apiUrl': 'https://content.guardianapis.com/world/coronavirus-outbreak',\n",
    "   'references': []},\n",
    "  {'id': 'science/science',\n",
    "   'type': 'keyword',\n",
    "   'sectionId': 'science',\n",
    "   'sectionName': 'Science',\n",
    "   'webTitle': 'Science',\n",
    "   'webUrl': 'https://www.theguardian.com/science/science',\n",
    "   'apiUrl': 'https://content.guardianapis.com/science/science',\n",
    "   'references': []}]\n",
    "   ...\n",
    "\n",
    "```\n",
    "\n",
    "**Output:**\n",
    "\n",
    "```\n",
    "{'chars': 6139,\n",
    " 'id': 'world/2020/may/08/coronavirus-the-week-explained',\n",
    " 'section': 'World news',\n",
    " 'tags': 'world/coronavirus-outbreak, science/science',\n",
    " 'text': 'Welcome to our weekly roundup of developments in the coronavirus pandemic, which continues ...',\n",
    " 'title': 'Coronavirus: the week explained',\n",
    " 'url': 'https://www.theguardian.com/world/2020/may/08/coronavirus-the-week-explained',\n",
    " 'month': 5}\n",
    "```\n",
    "\n",
    "### 3.\n",
    "The variable `chars` in your processed articles contains the particular number of characters in the text. Check by a sample article whether this result is correct.\n",
    "      \n",
    "### 4.\n",
    "Find out in which month most articles were published.\n",
    "\n",
    "### 5.\n",
    "Find the three most frequently used tags from all articles.\n",
    "\n",
    "### 6.\n",
    "Return the titles of the five longest articles (= number of characters).\n",
    "\n",
    "### 7.\n",
    "Store the processed articles in a `JSON` file. Be careful to specify the text encoding as `utf-8`."
   ]
  },
  {
   "cell_type": "code",
   "execution_count": 1,
   "metadata": {
    "slideshow": {
     "slide_type": "subslide"
    }
   },
   "outputs": [
    {
     "name": "stderr",
     "output_type": "stream",
     "text": [
      "C:\\Anaconda3\\lib\\site-packages\\pandas\\compat\\_optional.py:138: UserWarning: Pandas requires version '2.7.0' or newer of 'numexpr' (version '2.6.9' currently installed).\n",
      "  warnings.warn(msg, UserWarning)\n"
     ]
    }
   ],
   "source": [
    "# Code for Python challenge\n",
    "\n",
    "# Preamble\n",
    "\n",
    "import zipfile\n",
    "import json\n",
    "import os\n",
    "import datetime\n",
    "import pandas as pd\n",
    "from tqdm.notebook import tqdm\n",
    "\n",
    "# Reading in the .zip file to avoid temporary extraction\n",
    "\n",
    "zip_file_path = os.getcwd() + '\\\\guardian_articles_corona.zip'\n",
    "zf = zipfile.ZipFile(zip_file_path, \"r\")\n",
    "\n",
    "for name in zf.namelist():\n",
    "    \n",
    "    with zf.open(name) as f:\n",
    "        \n",
    "        data = f.read()  \n",
    "        d = json.loads(data)"
   ]
  },
  {
   "cell_type": "code",
   "execution_count": 3,
   "metadata": {},
   "outputs": [
    {
     "data": {
      "text/plain": [
       "list"
      ]
     },
     "execution_count": 3,
     "metadata": {},
     "output_type": "execute_result"
    }
   ],
   "source": [
    "type(d)"
   ]
  },
  {
   "cell_type": "code",
   "execution_count": 4,
   "metadata": {},
   "outputs": [
    {
     "data": {
      "text/plain": [
       "{'id': 'world/2020/may/08/coronavirus-the-week-explained',\n",
       " 'type': 'article',\n",
       " 'sectionId': 'world',\n",
       " 'sectionName': 'World news',\n",
       " 'webPublicationDate': '2020-05-08T10:54:45Z',\n",
       " 'webTitle': 'Coronavirus: the week explained',\n",
       " 'webUrl': 'https://www.theguardian.com/world/2020/may/08/coronavirus-the-week-explained',\n",
       " 'apiUrl': 'https://content.guardianapis.com/world/2020/may/08/coronavirus-the-week-explained',\n",
       " 'fields': {'headline': 'Coronavirus: the week explained',\n",
       "  'standfirst': '<p>Trust in scientists rising ... virus mutation reveals more about how pandemic began ... wildlife habit destruction linked to infection risk</p>',\n",
       "  'trailText': 'Trust in scientists rising ... virus mutation reveals more about how pandemic began ... wildlife habit destruction linked to infection risk',\n",
       "  'byline': 'Hannah Devlin, Science correspondent',\n",
       "  'main': '<figure class=\"element element-image\" data-media-id=\"7137d053487091f26bd3e102b412b95d9e533220\"> \\n <img src=\"https://media.guim.co.uk/7137d053487091f26bd3e102b412b95d9e533220/130_454_5296_3178/1000.jpg\" alt=\"A better view: An opinion poll this week found 64% of voters were now more likely to listen to expert advice from scientists and researchers.\" width=\"1000\" height=\"600\" class=\"gu-image\"> \\n <figcaption> \\n  <span class=\"element-image__caption\">A better view: An opinion poll this week found 64% of voters were now more likely to listen to expert advice from scientists and researchers.</span> \\n  <span class=\"element-image__credit\">Photograph: Julien de Rosa/EPA</span> \\n </figcaption> \\n</figure>',\n",
       "  'wordcount': '986',\n",
       "  'firstPublicationDate': '2020-05-08T10:54:45Z',\n",
       "  'isInappropriateForSponsorship': 'false',\n",
       "  'isPremoderated': 'false',\n",
       "  'lastModified': '2020-05-08T11:25:49Z',\n",
       "  'productionOffice': 'UK',\n",
       "  'publication': 'theguardian.com',\n",
       "  'shortUrl': 'https://gu.com/p/dz6nz',\n",
       "  'shouldHideAdverts': 'false',\n",
       "  'showInRelatedContent': 'true',\n",
       "  'thumbnail': 'https://media.guim.co.uk/7137d053487091f26bd3e102b412b95d9e533220/130_454_5296_3178/500.jpg',\n",
       "  'legallySensitive': 'false',\n",
       "  'lang': 'en',\n",
       "  'isLive': 'true',\n",
       "  'bodyText': 'Welcome to our weekly roundup of developments in the coronavirus pandemic, which continues to pose new political, scientific and personal challenges around the world. As the UK is among several countries moving towards the lifting of some restrictions, it remains under pressure to deliver enough tests – and the role of scientific advisers has come under renewed scrutiny. Public trust in science grows during the pandemic, as top scientist quits Sage It’s been a rocky week for science advisers. The prominent disease modelling expert Prof Neil Ferguson stepped down from the UK government’s advisory committee, Sage, after admitting that he had breached lockdown restrictions, and former chief scientific adviser, David King, issued a warning that potential political interference and a lack of transparency around the advice being given on coronavirus could undermine trust in science. However, an opinion poll this week by the Open Knowledge Foundation, an open data campaign group, found 64% of voters were now more likely to listen to expert advice from scientists and researchers, with only 5% saying they were less likely to do so. The poll was prompted by concerns that misinformation, such as discredited claims linking coronavirus to 5G mobile phone masts, that had been widely viewed and circulated among the public could be undermining trust in science. Instead, the poll found the reverse – public confidence in science has increased and people say they are more likely to value the views of experts than previously. Science Weekly podcast As hay fever season approaches, Nicola Davis asks Prof Stephen Durham about the differences between the immune response to an allergen, such as pollen, and a pathogen, like Sars-CoV-2. Should those with allergies be concerned about Covid-19? Virus mutations help uncover how the pandemic unfolded A genetic study of samples from more than 7,500 infected people has identified hundreds of mutations to the Covid-19 causing virus, which scientists say show how it is adapting to its human hosts as it spreads. The work suggests that the virus spread rapidly after it emerged in China, sometime between October and December last year, and that it was being transmitted extensively around the world early on in the epidemic – possibly entering Europe weeks or even months before the first cases were detected. In many countries, including the UK, the variety of virus mutations sampled was almost as great as the variety seen across the whole world. This suggests the virus entered the UK lots of times independently, rather than via any one “patient zero” case that seeded the national epidemic. The fact the virus has mutated is not in itself sinister, according to Prof Francois Balloux, who co-led the work. “All viruses naturally mutate,” he said. “Mutations in themselves are not a bad thing and there is nothing to suggest Sars-CoV-2 is mutating faster or slower than expected. So far we cannot say whether [it] is becoming more or less lethal and contagious.” Identifying which sections of the virus genome are mutating most rapidly is important for vaccine development – if a vaccine candidate targets a region of the virus that later changes, it is less likely to be effective. Unequal risk of deaths for people from different ethnic backgrounds Data from the UK’s Office for National Statistics found that black people are more than four times more likely to die from Covid-19 than white people, in figures that starkly show the divergence in the impact of the coronavirus pandemic in England and Wales. Bangladeshi and Pakistani males were 1.8 times more likely to die from Covid-19 than white males, after other pre-existing factors had been accounted for, and females from those ethnic backgrounds were 1.6 times more likely to die from the virus than their white counterparts. Researchers and policy-makers are still trying to understand the drivers for these differences. However, one potential explanation appears to be have been excluded by a major study analysing the NHS health records from 17.4 million UK adults, which showed that most of the difference could not be explained by differences in rates of underlying health conditions. “People have very reasonably speculated that the increased risk among BME people might be due to people having higher risk of cardiovascular disease or diabetes,” said Ben Goldacre, director of the DataLab in the Nuffield Department of Primary Care Health Sciences at the University of Oxford, and co-lead on the study. “Our analysis shows that is actually not the case. That is not the explanation. We’ve been able to exclude one of the current preferred explanations for why BME people face higher risk.” Habitat destruction linked to emergence of disease Scientists have called for a greater recognition that human activities, including deforestation, raise the risk of the emergence and spread of new zoonoses (diseases that make the jump from animals to humans). A number of reports have shown that animals are more susceptible to viruses and bacterial infections in regions where their habitat or the balance of local ecology is under threat. The focus of preventing the emergence of such diseases in future should be on human activities, according to one paper published in Frontiers in Medicine, because this element of risk can be organised and controlled. The study identifies bats in east Asia as a potential reservoir for further new coronavirus infections – scientists have detected about 3,200 different circulating strains in the bats. South America is also highlighted as a region of concern, due to the rapid deforestation of the Amazon, as well as Myanmar, where there has also been rapid forest clearance. “I’m hopeful that one of the most positive things to come out of horrible tragedy will be the realisation that there is a link between how we treat the forest and our wellbeing,” said Tierra Smiley Evans, an epidemiologist at the University of California who studies virus distributions in forest species in Myanmar. “It really impacts our health. It is not just a wildlife issue or an environmental issue.”',\n",
       "  'charCount': '6139',\n",
       "  'shouldHideReaderRevenue': 'false',\n",
       "  'showAffiliateLinks': 'false',\n",
       "  'bylineHtml': '<a href=\"profile/hannah-devlin\">Hannah Devlin</a>, Science correspondent'},\n",
       " 'tags': [{'id': 'world/coronavirus-outbreak',\n",
       "   'type': 'keyword',\n",
       "   'sectionId': 'world',\n",
       "   'sectionName': 'World news',\n",
       "   'webTitle': 'Coronavirus outbreak',\n",
       "   'webUrl': 'https://www.theguardian.com/world/coronavirus-outbreak',\n",
       "   'apiUrl': 'https://content.guardianapis.com/world/coronavirus-outbreak',\n",
       "   'references': []},\n",
       "  {'id': 'science/science',\n",
       "   'type': 'keyword',\n",
       "   'sectionId': 'science',\n",
       "   'sectionName': 'Science',\n",
       "   'webTitle': 'Science',\n",
       "   'webUrl': 'https://www.theguardian.com/science/science',\n",
       "   'apiUrl': 'https://content.guardianapis.com/science/science',\n",
       "   'references': []},\n",
       "  {'id': 'world/world',\n",
       "   'type': 'keyword',\n",
       "   'sectionId': 'world',\n",
       "   'sectionName': 'World news',\n",
       "   'webTitle': 'World news',\n",
       "   'webUrl': 'https://www.theguardian.com/world/world',\n",
       "   'apiUrl': 'https://content.guardianapis.com/world/world',\n",
       "   'references': []}],\n",
       " 'isHosted': False,\n",
       " 'pillarId': 'pillar/news',\n",
       " 'pillarName': 'News'}"
      ]
     },
     "execution_count": 4,
     "metadata": {},
     "output_type": "execute_result"
    }
   ],
   "source": [
    "d[0]"
   ]
  },
  {
   "cell_type": "code",
   "execution_count": 5,
   "metadata": {},
   "outputs": [],
   "source": [
    "# Function to parse JSON objects from a list\n",
    "\n",
    "def parse_tweets(json_object):\n",
    "    \n",
    "    tweet_list = []\n",
    "\n",
    "    for tweet in tqdm(json_object):\n",
    "    \n",
    "        empty_dict = {}\n",
    "    \n",
    "        empty_dict['chars'] = tweet['fields']['charCount']\n",
    "        empty_dict['id'] = tweet['id']\n",
    "        empty_dict['section'] = tweet['sectionName']\n",
    "    \n",
    "        tags_list = [tag['id'] for tag in tweet['tags']]\n",
    "        one_string = ', '.join([s for s in tags_list])\n",
    "        empty_dict['tags'] = one_string\n",
    "        empty_dict['text'] = tweet['fields']['bodyText']\n",
    "        empty_dict['title'] = tweet['webTitle']\n",
    "        empty_dict['url'] = tweet['webUrl']\n",
    "        empty_dict['month'] = datetime.datetime.strptime(tweet['webPublicationDate'][:10], \"%Y-%m-%d\").month\n",
    "    \n",
    "        tweet_list.append(empty_dict)\n",
    "        \n",
    "    return tweet_list"
   ]
  },
  {
   "cell_type": "code",
   "execution_count": 6,
   "metadata": {},
   "outputs": [
    {
     "data": {
      "application/vnd.jupyter.widget-view+json": {
       "model_id": "28eacaa38019447686307c540a72f088",
       "version_major": 2,
       "version_minor": 0
      },
      "text/plain": [
       "  0%|          | 0/10801 [00:00<?, ?it/s]"
      ]
     },
     "metadata": {},
     "output_type": "display_data"
    }
   ],
   "source": [
    "data = parse_tweets(d)"
   ]
  },
  {
   "cell_type": "code",
   "execution_count": 7,
   "metadata": {},
   "outputs": [
    {
     "data": {
      "text/plain": [
       "True"
      ]
     },
     "execution_count": 7,
     "metadata": {},
     "output_type": "execute_result"
    }
   ],
   "source": [
    "# Checking whether the extracted information on number of characters in text coincides with our computation of the length of\n",
    "# the articles length\n",
    "\n",
    "sample_index = 0\n",
    "data[sample_index]['chars'] == str(len(data[sample_index]['text']))"
   ]
  },
  {
   "cell_type": "code",
   "execution_count": 8,
   "metadata": {},
   "outputs": [
    {
     "data": {
      "text/html": [
       "<div>\n",
       "<style scoped>\n",
       "    .dataframe tbody tr th:only-of-type {\n",
       "        vertical-align: middle;\n",
       "    }\n",
       "\n",
       "    .dataframe tbody tr th {\n",
       "        vertical-align: top;\n",
       "    }\n",
       "\n",
       "    .dataframe thead th {\n",
       "        text-align: right;\n",
       "    }\n",
       "</style>\n",
       "<table border=\"1\" class=\"dataframe\">\n",
       "  <thead>\n",
       "    <tr style=\"text-align: right;\">\n",
       "      <th></th>\n",
       "      <th>chars</th>\n",
       "      <th>id</th>\n",
       "      <th>section</th>\n",
       "      <th>tags</th>\n",
       "      <th>text</th>\n",
       "      <th>title</th>\n",
       "      <th>url</th>\n",
       "      <th>month</th>\n",
       "    </tr>\n",
       "  </thead>\n",
       "  <tbody>\n",
       "    <tr>\n",
       "      <th>0</th>\n",
       "      <td>6139</td>\n",
       "      <td>world/2020/may/08/coronavirus-the-week-explained</td>\n",
       "      <td>World news</td>\n",
       "      <td>world/coronavirus-outbreak, science/science, w...</td>\n",
       "      <td>Welcome to our weekly roundup of developments ...</td>\n",
       "      <td>Coronavirus: the week explained</td>\n",
       "      <td>https://www.theguardian.com/world/2020/may/08/...</td>\n",
       "      <td>5</td>\n",
       "    </tr>\n",
       "    <tr>\n",
       "      <th>1</th>\n",
       "      <td>2196</td>\n",
       "      <td>world/2020/apr/14/coronavirus-latest-at-a-glance</td>\n",
       "      <td>World news</td>\n",
       "      <td>world/world, world/coronavirus-outbreak</td>\n",
       "      <td>Key developments in the global coronavirus out...</td>\n",
       "      <td>Coronavirus: at a glance</td>\n",
       "      <td>https://www.theguardian.com/world/2020/apr/14/...</td>\n",
       "      <td>4</td>\n",
       "    </tr>\n",
       "    <tr>\n",
       "      <th>2</th>\n",
       "      <td>2469</td>\n",
       "      <td>world/2020/apr/17/coronavirus-contact-tracing-...</td>\n",
       "      <td>World news</td>\n",
       "      <td>world/coronavirus-outbreak, science/infectious...</td>\n",
       "      <td>What is contact tracing? This is one of the mo...</td>\n",
       "      <td>Coronavirus: contact tracing explained</td>\n",
       "      <td>https://www.theguardian.com/world/2020/apr/17/...</td>\n",
       "      <td>4</td>\n",
       "    </tr>\n",
       "    <tr>\n",
       "      <th>3</th>\n",
       "      <td>3356</td>\n",
       "      <td>world/2020/may/12/coronavirus-latest-at-a-glan...</td>\n",
       "      <td>World news</td>\n",
       "      <td>world/world, world/coronavirus-outbreak</td>\n",
       "      <td>Key developments in the global coronavirus out...</td>\n",
       "      <td>Coronavirus latest: at a glance</td>\n",
       "      <td>https://www.theguardian.com/world/2020/may/12/...</td>\n",
       "      <td>5</td>\n",
       "    </tr>\n",
       "    <tr>\n",
       "      <th>4</th>\n",
       "      <td>3483</td>\n",
       "      <td>world/2020/may/12/coronavirus-latest-at-a-glan...</td>\n",
       "      <td>World news</td>\n",
       "      <td>world/world, world/coronavirus-outbreak</td>\n",
       "      <td>Key developments in the global coronavirus out...</td>\n",
       "      <td>Coronavirus latest: at a glance</td>\n",
       "      <td>https://www.theguardian.com/world/2020/may/12/...</td>\n",
       "      <td>5</td>\n",
       "    </tr>\n",
       "  </tbody>\n",
       "</table>\n",
       "</div>"
      ],
      "text/plain": [
       "  chars                                                 id     section  \\\n",
       "0  6139   world/2020/may/08/coronavirus-the-week-explained  World news   \n",
       "1  2196   world/2020/apr/14/coronavirus-latest-at-a-glance  World news   \n",
       "2  2469  world/2020/apr/17/coronavirus-contact-tracing-...  World news   \n",
       "3  3356  world/2020/may/12/coronavirus-latest-at-a-glan...  World news   \n",
       "4  3483  world/2020/may/12/coronavirus-latest-at-a-glan...  World news   \n",
       "\n",
       "                                                tags  \\\n",
       "0  world/coronavirus-outbreak, science/science, w...   \n",
       "1            world/world, world/coronavirus-outbreak   \n",
       "2  world/coronavirus-outbreak, science/infectious...   \n",
       "3            world/world, world/coronavirus-outbreak   \n",
       "4            world/world, world/coronavirus-outbreak   \n",
       "\n",
       "                                                text  \\\n",
       "0  Welcome to our weekly roundup of developments ...   \n",
       "1  Key developments in the global coronavirus out...   \n",
       "2  What is contact tracing? This is one of the mo...   \n",
       "3  Key developments in the global coronavirus out...   \n",
       "4  Key developments in the global coronavirus out...   \n",
       "\n",
       "                                    title  \\\n",
       "0         Coronavirus: the week explained   \n",
       "1                Coronavirus: at a glance   \n",
       "2  Coronavirus: contact tracing explained   \n",
       "3         Coronavirus latest: at a glance   \n",
       "4         Coronavirus latest: at a glance   \n",
       "\n",
       "                                                 url  month  \n",
       "0  https://www.theguardian.com/world/2020/may/08/...      5  \n",
       "1  https://www.theguardian.com/world/2020/apr/14/...      4  \n",
       "2  https://www.theguardian.com/world/2020/apr/17/...      4  \n",
       "3  https://www.theguardian.com/world/2020/may/12/...      5  \n",
       "4  https://www.theguardian.com/world/2020/may/12/...      5  "
      ]
     },
     "execution_count": 8,
     "metadata": {},
     "output_type": "execute_result"
    }
   ],
   "source": [
    "# Converting the list of dictionaries into a pandas dataframe and counting the frequency of unique values\n",
    "\n",
    "df = pd.DataFrame(data)\n",
    "df.head()"
   ]
  },
  {
   "cell_type": "code",
   "execution_count": 9,
   "metadata": {},
   "outputs": [
    {
     "data": {
      "text/plain": [
       "4    4307\n",
       "3    4076\n",
       "5    1479\n",
       "2     744\n",
       "1     195\n",
       "Name: month, dtype: int64"
      ]
     },
     "execution_count": 9,
     "metadata": {},
     "output_type": "execute_result"
    }
   ],
   "source": [
    "df['month'].value_counts()"
   ]
  },
  {
   "cell_type": "code",
   "execution_count": 10,
   "metadata": {},
   "outputs": [],
   "source": [
    "tags_list = []\n",
    "\n",
    "for i in range(len(df)):\n",
    "    \n",
    "    tags_list.append(df.iloc[i]['tags'])\n",
    "    \n",
    "one_string = ' '.join([s for s in tags_list])\n",
    "\n",
    "tags = one_string.split(', ')"
   ]
  },
  {
   "cell_type": "code",
   "execution_count": 11,
   "metadata": {},
   "outputs": [],
   "source": [
    "empty_list = []\n",
    "\n",
    "for tag in set(tags):\n",
    "    \n",
    "    empty_dict = {}\n",
    "    \n",
    "    empty_dict['tag'] = tag\n",
    "    empty_dict['count'] = tags.count(tag)\n",
    "    empty_list.append(empty_dict)   "
   ]
  },
  {
   "cell_type": "code",
   "execution_count": 12,
   "metadata": {},
   "outputs": [
    {
     "data": {
      "text/html": [
       "<div>\n",
       "<style scoped>\n",
       "    .dataframe tbody tr th:only-of-type {\n",
       "        vertical-align: middle;\n",
       "    }\n",
       "\n",
       "    .dataframe tbody tr th {\n",
       "        vertical-align: top;\n",
       "    }\n",
       "\n",
       "    .dataframe thead th {\n",
       "        text-align: right;\n",
       "    }\n",
       "</style>\n",
       "<table border=\"1\" class=\"dataframe\">\n",
       "  <thead>\n",
       "    <tr style=\"text-align: right;\">\n",
       "      <th></th>\n",
       "      <th>tag</th>\n",
       "      <th>count</th>\n",
       "    </tr>\n",
       "  </thead>\n",
       "  <tbody>\n",
       "    <tr>\n",
       "      <th>5271</th>\n",
       "      <td>world/coronavirus-outbreak</td>\n",
       "      <td>3696</td>\n",
       "    </tr>\n",
       "    <tr>\n",
       "      <th>2710</th>\n",
       "      <td>uk/uk</td>\n",
       "      <td>2568</td>\n",
       "    </tr>\n",
       "    <tr>\n",
       "      <th>6282</th>\n",
       "      <td>science/infectiousdiseases</td>\n",
       "      <td>2200</td>\n",
       "    </tr>\n",
       "    <tr>\n",
       "      <th>1522</th>\n",
       "      <td>world/world</td>\n",
       "      <td>2003</td>\n",
       "    </tr>\n",
       "    <tr>\n",
       "      <th>6811</th>\n",
       "      <td>business/business</td>\n",
       "      <td>1196</td>\n",
       "    </tr>\n",
       "    <tr>\n",
       "      <th>...</th>\n",
       "      <td>...</td>\n",
       "      <td>...</td>\n",
       "    </tr>\n",
       "    <tr>\n",
       "      <th>258</th>\n",
       "      <td>australia-news/australian-education world/india</td>\n",
       "      <td>1</td>\n",
       "    </tr>\n",
       "    <tr>\n",
       "      <th>1946</th>\n",
       "      <td>politics/economy us-news/us-news</td>\n",
       "      <td>1</td>\n",
       "    </tr>\n",
       "    <tr>\n",
       "      <th>4752</th>\n",
       "      <td>film/thriller world/coronavirus-outbreak</td>\n",
       "      <td>1</td>\n",
       "    </tr>\n",
       "    <tr>\n",
       "      <th>1947</th>\n",
       "      <td>fashion/fashion business/the-gig-economy</td>\n",
       "      <td>1</td>\n",
       "    </tr>\n",
       "    <tr>\n",
       "      <th>4639</th>\n",
       "      <td>games/simulation-games world/coronavirus-outbreak</td>\n",
       "      <td>1</td>\n",
       "    </tr>\n",
       "  </tbody>\n",
       "</table>\n",
       "<p>8734 rows × 2 columns</p>\n",
       "</div>"
      ],
      "text/plain": [
       "                                                    tag  count\n",
       "5271                         world/coronavirus-outbreak   3696\n",
       "2710                                              uk/uk   2568\n",
       "6282                         science/infectiousdiseases   2200\n",
       "1522                                        world/world   2003\n",
       "6811                                  business/business   1196\n",
       "...                                                 ...    ...\n",
       "258     australia-news/australian-education world/india      1\n",
       "1946                   politics/economy us-news/us-news      1\n",
       "4752           film/thriller world/coronavirus-outbreak      1\n",
       "1947           fashion/fashion business/the-gig-economy      1\n",
       "4639  games/simulation-games world/coronavirus-outbreak      1\n",
       "\n",
       "[8734 rows x 2 columns]"
      ]
     },
     "execution_count": 12,
     "metadata": {},
     "output_type": "execute_result"
    }
   ],
   "source": [
    "pd.DataFrame(empty_list).sort_values(by=['count'], ascending=False)"
   ]
  },
  {
   "cell_type": "markdown",
   "metadata": {},
   "source": [
    "<br>\n",
    "<br>\n",
    "\n",
    "\n",
    "___\n",
    "\n",
    "                \n",
    "**Contact: Gerome Wolf** (Email: wolfgerome@gmail.com)"
   ]
  }
 ],
 "metadata": {
  "kernelspec": {
   "display_name": "Webscraping Workshop",
   "language": "python",
   "name": "webscraping-kernel"
  },
  "language_info": {
   "codemirror_mode": {
    "name": "ipython",
    "version": 3
   },
   "file_extension": ".py",
   "mimetype": "text/x-python",
   "name": "python",
   "nbconvert_exporter": "python",
   "pygments_lexer": "ipython3",
   "version": "3.7.3"
  }
 },
 "nbformat": 4,
 "nbformat_minor": 2
}

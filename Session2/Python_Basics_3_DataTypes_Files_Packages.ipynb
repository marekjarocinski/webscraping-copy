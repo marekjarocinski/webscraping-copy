{
 "cells": [
  {
   "cell_type": "markdown",
   "metadata": {
    "slideshow": {
     "slide_type": "slide"
    }
   },
   "source": [
    "# Other data types, files and Python packages"
   ]
  },
  {
   "cell_type": "markdown",
   "metadata": {
    "slideshow": {
     "slide_type": "subslide"
    }
   },
   "source": [
    "## List Comprehensions\n",
    "\n",
    "`for`- loops can be expressed in form of *list comprehensions*:\n",
    "\n",
    "`[i for i in x]`"
   ]
  },
  {
   "cell_type": "code",
   "execution_count": null,
   "metadata": {
    "scrolled": false,
    "slideshow": {
     "slide_type": "fragment"
    }
   },
   "outputs": [],
   "source": []
  },
  {
   "cell_type": "code",
   "execution_count": null,
   "metadata": {
    "slideshow": {
     "slide_type": "fragment"
    }
   },
   "outputs": [],
   "source": []
  },
  {
   "cell_type": "markdown",
   "metadata": {
    "slideshow": {
     "slide_type": "subslide"
    }
   },
   "source": [
    "List Comprehensions can also take conditions:    \n",
    "`[i for i in x if condition]`"
   ]
  },
  {
   "cell_type": "code",
   "execution_count": null,
   "metadata": {
    "slideshow": {
     "slide_type": "fragment"
    }
   },
   "outputs": [],
   "source": []
  },
  {
   "cell_type": "markdown",
   "metadata": {
    "slideshow": {
     "slide_type": "subslide"
    }
   },
   "source": [
    "Through List Comprehensions and the String function `join()` multiple String elements can be combined to a single String:"
   ]
  },
  {
   "cell_type": "code",
   "execution_count": null,
   "metadata": {
    "slideshow": {
     "slide_type": "fragment"
    }
   },
   "outputs": [],
   "source": []
  },
  {
   "cell_type": "markdown",
   "metadata": {
    "slideshow": {
     "slide_type": "subslide"
    }
   },
   "source": [
    "## Data type: [Tuple](https://docs.python.org/3.3/tutorial/datastructures.html#tuples-and-sequences)\n",
    "\n",
    "Immutable sequences of arbitrary objects and are initialized with `(` and closed with `)`. Tuples have the same properties of lists but are *immutable*."
   ]
  },
  {
   "cell_type": "code",
   "execution_count": null,
   "metadata": {
    "slideshow": {
     "slide_type": "fragment"
    }
   },
   "outputs": [],
   "source": []
  },
  {
   "cell_type": "markdown",
   "metadata": {
    "slideshow": {
     "slide_type": "subslide"
    }
   },
   "source": [
    "### Iterating Lists-of-Tuples\n",
    "\n",
    "Allows to iterate synchronously over multiple sequences of equal length. Therefore, the sequences need to be transfered into a list of tuples. This is done with the `zip()` function."
   ]
  },
  {
   "cell_type": "code",
   "execution_count": null,
   "metadata": {
    "slideshow": {
     "slide_type": "fragment"
    }
   },
   "outputs": [],
   "source": []
  },
  {
   "cell_type": "markdown",
   "metadata": {
    "slideshow": {
     "slide_type": "subslide"
    }
   },
   "source": [
    "When sorting tuples Python uses the first element by default:"
   ]
  },
  {
   "cell_type": "code",
   "execution_count": null,
   "metadata": {
    "slideshow": {
     "slide_type": "fragment"
    }
   },
   "outputs": [],
   "source": []
  },
  {
   "cell_type": "code",
   "execution_count": null,
   "metadata": {
    "slideshow": {
     "slide_type": "fragment"
    }
   },
   "outputs": [],
   "source": []
  },
  {
   "cell_type": "code",
   "execution_count": null,
   "metadata": {
    "slideshow": {
     "slide_type": "fragment"
    }
   },
   "outputs": [],
   "source": []
  },
  {
   "cell_type": "code",
   "execution_count": null,
   "metadata": {},
   "outputs": [],
   "source": []
  },
  {
   "cell_type": "markdown",
   "metadata": {
    "slideshow": {
     "slide_type": "subslide"
    }
   },
   "source": [
    "## Data type: [Dictionaries](https://docs.python.org/3.3/tutorial/datastructures.html#dictionaries)\n",
    "\n",
    "- Apart from lists are dictionaries the most important data containers in Python since the heavily used web format JSON can be directly converted into dictionaries.\n",
    "- Dictionaries are unsorted collections of elements that can be individually queried through a unique key. Dictionaries are opened with `{` and closed with `}`. `key-value` pairs consist of a key and a corresponding value, both are separated with `:` from each other.\n",
    "\n",
    "`D = {key1: value1, key2: value2, ...}`"
   ]
  },
  {
   "cell_type": "code",
   "execution_count": null,
   "metadata": {
    "slideshow": {
     "slide_type": "subslide"
    }
   },
   "outputs": [],
   "source": [
    "D = {'1988': 'Seoul', '2008': ['Peking', 5], 1988: 'Seoul'}\n",
    "print(D)\n",
    "type(D)"
   ]
  },
  {
   "cell_type": "code",
   "execution_count": null,
   "metadata": {},
   "outputs": [],
   "source": []
  },
  {
   "cell_type": "code",
   "execution_count": null,
   "metadata": {
    "slideshow": {
     "slide_type": "subslide"
    }
   },
   "outputs": [],
   "source": []
  },
  {
   "cell_type": "code",
   "execution_count": null,
   "metadata": {
    "slideshow": {
     "slide_type": "subslide"
    }
   },
   "outputs": [],
   "source": []
  },
  {
   "cell_type": "code",
   "execution_count": null,
   "metadata": {
    "scrolled": true,
    "slideshow": {
     "slide_type": "subslide"
    }
   },
   "outputs": [],
   "source": []
  },
  {
   "cell_type": "code",
   "execution_count": null,
   "metadata": {},
   "outputs": [],
   "source": []
  },
  {
   "cell_type": "code",
   "execution_count": null,
   "metadata": {},
   "outputs": [],
   "source": []
  },
  {
   "cell_type": "markdown",
   "metadata": {
    "slideshow": {
     "slide_type": "subslide"
    }
   },
   "source": [
    "Dictionaries can just as lists be nested over multiple hierarchical levels:"
   ]
  },
  {
   "cell_type": "code",
   "execution_count": null,
   "metadata": {
    "slideshow": {
     "slide_type": "fragment"
    }
   },
   "outputs": [],
   "source": [
    "nested = {'structured': {'spreadsheets': 'flat', 'json': 'tree'},\n",
    "          'unstructured':  [{'type': 'natural language', 'format': 'txt'}, \n",
    "                              {'type' : 'image', 'format': 'png'}]}"
   ]
  },
  {
   "cell_type": "code",
   "execution_count": null,
   "metadata": {
    "slideshow": {
     "slide_type": "fragment"
    }
   },
   "outputs": [],
   "source": []
  },
  {
   "cell_type": "code",
   "execution_count": null,
   "metadata": {
    "slideshow": {
     "slide_type": "fragment"
    }
   },
   "outputs": [],
   "source": [
    " "
   ]
  },
  {
   "cell_type": "markdown",
   "metadata": {
    "slideshow": {
     "slide_type": "subslide"
    }
   },
   "source": [
    "## Exercise 1\n",
    "\n",
    "Write Python code (e.g. using a `for` loop) that returns for all `unstructured` elements from the dictionary above (i.e. \"nested\") the corresponding `type`, and not type()."
   ]
  },
  {
   "cell_type": "code",
   "execution_count": null,
   "metadata": {
    "slideshow": {
     "slide_type": "fragment"
    }
   },
   "outputs": [],
   "source": [
    "# Code for Exercise 1\n"
   ]
  },
  {
   "cell_type": "markdown",
   "metadata": {
    "slideshow": {
     "slide_type": "subslide"
    }
   },
   "source": [
    "### Exercise 2\n",
    "\n",
    "Create a dictionary which `keys` are the id's of the Tweets below. The `values` of the Keys should be all Hashtag Strings of the particular Tweets contained **in a list**. *Bonus: Define a function to solve this exercise.*\n",
    "\n",
    "https://twitter.com/BMBF_Bund/status/1199976385621692416    \n",
    "https://twitter.com/WHO/status/1257937948424757248  \n",
    "\n",
    "Solution example:\n",
    "```\n",
    "{'1199976385621692416': ['#openaccess', '#BMBF', '#Wissenschaft', '#OA', '#podcast'],\n",
    " '1257937948424757248': ['#COVID19', '#HealthForAll', '#coronavirus']}\n",
    "```"
   ]
  },
  {
   "cell_type": "code",
   "execution_count": null,
   "metadata": {
    "slideshow": {
     "slide_type": "skip"
    }
   },
   "outputs": [],
   "source": [
    "tweets = [\n",
    "      { # tweet 1\n",
    "        'created_at': 'Thu Nov 28 09:00:39 +0000 2019',\n",
    "        'favorite_count': 283,\n",
    "        'full_text': 'Reden wir offen ... über #openaccess! \\nUnd zwar in unserer Podcast-Mini-Serie. In der ersten Folge spricht Radiomoderator Holger Klein mit der Chemikerin Mai Thi Nguyen-Kim @maithi_nk. Jetzt hier reinhören 🎧: https://t.co/aRRo23c0t0\\n@wrint_de #BMBF #Wissenschaft #OA #podcast https://t.co/EzyqBc4WAK',\n",
    "        'hashtags': [{\n",
    "            'text': 'openaccess'\n",
    "          },\n",
    "          {\n",
    "            'text': 'BMBF'\n",
    "          },\n",
    "          {\n",
    "            'text': 'Wissenschaft'\n",
    "          },\n",
    "          {\n",
    "            'text': 'OA'\n",
    "          },\n",
    "          {\n",
    "            'text': 'podcast'\n",
    "          }\n",
    "        ],\n",
    "        'id': 1199976385621692416, # id 1\n",
    "        'id_str': '1199976385621692416',\n",
    "        'lang': 'de',\n",
    "        'media': [{\n",
    "          'display_url': 'pic.twitter.com/EzyqBc4WAK',\n",
    "          'expanded_url': 'https://twitter.com/BMBF_Bund/status/1199976385621692416/photo/1',\n",
    "          'id': 1199976381893005314,\n",
    "          'media_url': 'http://pbs.twimg.com/media/EKcsKV2XUAIvNj6.jpg',\n",
    "          'media_url_https': 'https://pbs.twimg.com/media/EKcsKV2XUAIvNj6.jpg',\n",
    "          'sizes': {\n",
    "            'small': {\n",
    "              'w': 680,\n",
    "              'h': 453,\n",
    "              'resize': 'fit'\n",
    "            },\n",
    "            'thumb': {\n",
    "              'w': 150,\n",
    "              'h': 150,\n",
    "              'resize': 'crop'\n",
    "            },\n",
    "            'medium': {\n",
    "              'w': 1200,\n",
    "              'h': 799,\n",
    "              'resize': 'fit'\n",
    "            },\n",
    "            'large': {\n",
    "              'w': 2048,\n",
    "              'h': 1363,\n",
    "              'resize': 'fit'\n",
    "            }\n",
    "          },\n",
    "          'type': 'photo',\n",
    "          'url': 'https://t.co/EzyqBc4WAK'\n",
    "        }],\n",
    "        'retweet_count': 73,\n",
    "        'source': '<a href=\"https://www.hootsuite.com\" rel=\"nofollow\">Hootsuite Inc.</a>',\n",
    "        'urls': [{\n",
    "          'expanded_url': 'http://ow.ly/xymW50xmNGj',\n",
    "          'url': 'https://t.co/aRRo23c0t0'\n",
    "        }],\n",
    "        'user': {\n",
    "          'created_at': 'Fri Jan 09 13:29:16 +0000 2015',\n",
    "          'default_profile': True,\n",
    "          'description': 'Hier twittert die Social-Media-Redaktion des Bundesministeriums für Bildung und Forschung - https://t.co/UqNZkLfa5s',\n",
    "          'favourites_count': 3803,\n",
    "          'followers_count': 48480,\n",
    "          'friends_count': 650,\n",
    "          'geo_enabled': True,\n",
    "          'id': 2969727718,\n",
    "          'id_str': '2969727718',\n",
    "          'listed_count': 596,\n",
    "          'location': 'Berlin',\n",
    "          'name': 'BMBF',\n",
    "          'screen_name': 'BMBF_Bund',\n",
    "          'statuses_count': 9852,\n",
    "          'url': 'https://t.co/swEZR6KkpA',\n",
    "          'verified': True\n",
    "        },\n",
    "        'user_mentions': [{\n",
    "            'id': 1094849342,\n",
    "            'id_str': '1094849342',\n",
    "            'name': 'Mai Thi Nguyen-Kim',\n",
    "            'screen_name': 'maithi_nk'\n",
    "          },\n",
    "          {\n",
    "            'id': 303342452,\n",
    "            'id_str': '303342452',\n",
    "            'name': 'WRINT',\n",
    "            'screen_name': 'wrint_de'\n",
    "          }\n",
    "        ]\n",
    "      },\n",
    "\n",
    "      { # tweet 2\n",
    "        'created_at': 'Wed May 06 07:39:12 +0000 2020',\n",
    "        'favorite_count': 750,\n",
    "        'full_text': 'In a little over 3 months, #COVID19 has changed the world in so many ways, bringing us closer together and reaffirming the importance of #HealthForAll.\\nThis video shows the key moments so far as WHO works with partners worldwide to fight #coronavirus and save lives. https://t.co/oYQV4DPbxa',\n",
    "        'hashtags': [{\n",
    "            'text': 'COVID19'\n",
    "          },\n",
    "          {\n",
    "            'text': 'HealthForAll'\n",
    "          },\n",
    "          {\n",
    "            'text': 'coronavirus'\n",
    "          }\n",
    "        ],\n",
    "        'id': 1257937948424757248, # id 2\n",
    "        'id_str': '1257937948424757248',\n",
    "        'lang': 'en',\n",
    "        'media': [{\n",
    "          'display_url': 'pic.twitter.com/oYQV4DPbxa',\n",
    "          'expanded_url': 'https://twitter.com/WHO/status/1257937948424757248/video/1',\n",
    "          'id': 1257937273561190400,\n",
    "          'media_url': 'http://pbs.twimg.com/amplify_video_thumb/1257937273561190400/img/JvLTmXi97KVXwviA.jpg',\n",
    "          'media_url_https': 'https://pbs.twimg.com/amplify_video_thumb/1257937273561190400/img/JvLTmXi97KVXwviA.jpg',\n",
    "          'sizes': {\n",
    "            'thumb': {\n",
    "              'w': 150,\n",
    "              'h': 150,\n",
    "              'resize': 'crop'\n",
    "            },\n",
    "            'medium': {\n",
    "              'w': 1200,\n",
    "              'h': 675,\n",
    "              'resize': 'fit'\n",
    "            },\n",
    "            'small': {\n",
    "              'w': 680,\n",
    "              'h': 383,\n",
    "              'resize': 'fit'\n",
    "            },\n",
    "            'large': {\n",
    "              'w': 1280,\n",
    "              'h': 720,\n",
    "              'resize': 'fit'\n",
    "            }\n",
    "          },\n",
    "          'type': 'video',\n",
    "          'url': 'https://t.co/oYQV4DPbxa',\n",
    "          'video_info': {\n",
    "            'aspect_ratio': [16, 9],\n",
    "            'duration_millis': 325600,\n",
    "            'variants': [{\n",
    "                'bitrate': 288000,\n",
    "                'content_type': 'video/mp4',\n",
    "                'url': 'https://video.twimg.com/amplify_video/1257937273561190400/vid/480x270/Qp6JiURxItBa9H6c.mp4?tag=13'\n",
    "              },\n",
    "              {\n",
    "                'bitrate': 832000,\n",
    "                'content_type': 'video/mp4',\n",
    "                'url': 'https://video.twimg.com/amplify_video/1257937273561190400/vid/640x360/nqIWSKAqarkV9xRw.mp4?tag=13'\n",
    "              },\n",
    "              {\n",
    "                'content_type': 'application/x-mpegURL',\n",
    "                'url': 'https://video.twimg.com/amplify_video/1257937273561190400/pl/JUsDgAz2USLHj8JK.m3u8?tag=13'\n",
    "              },\n",
    "              {\n",
    "                'bitrate': 2176000,\n",
    "                'content_type': 'video/mp4',\n",
    "                'url': 'https://video.twimg.com/amplify_video/1257937273561190400/vid/1280x720/frWD4cpJVdQsBDDH.mp4?tag=13'\n",
    "              }\n",
    "            ]\n",
    "          }\n",
    "        }],\n",
    "        'retweet_count': 324,\n",
    "        'source': '<a href=\"https://studio.twitter.com\" rel=\"nofollow\">Twitter Media Studio</a>',\n",
    "        'urls': [],\n",
    "        'user': {\n",
    "          'created_at': 'Wed Apr 23 19:56:27 +0000 2008',\n",
    "          'description': 'We are the #UnitedNations’ health agency. We are committed to achieving better health for everyone, everywhere - #HealthForAll',\n",
    "          'favourites_count': 10673,\n",
    "          'followers_count': 7692786,\n",
    "          'friends_count': 1719,\n",
    "          'geo_enabled': True,\n",
    "          'id': 14499829,\n",
    "          'id_str': '14499829',\n",
    "          'listed_count': 32284,\n",
    "          'location': 'Geneva, Switzerland',\n",
    "          'name': 'World Health Organization (WHO)',\n",
    "          'screen_name': 'WHO',\n",
    "          'statuses_count': 50956,\n",
    "          'url': 'https://t.co/wVulKuROWG',\n",
    "          'verified': True\n",
    "        },\n",
    "        'user_mentions': []\n",
    "      }]"
   ]
  },
  {
   "cell_type": "code",
   "execution_count": null,
   "metadata": {
    "scrolled": true,
    "slideshow": {
     "slide_type": "subslide"
    }
   },
   "outputs": [],
   "source": [
    "# Code Exercise 2 (Writing out the loops)\n"
   ]
  },
  {
   "cell_type": "code",
   "execution_count": null,
   "metadata": {},
   "outputs": [],
   "source": [
    "# Code Exercise 2 (Function + list comprehension)\n"
   ]
  },
  {
   "cell_type": "markdown",
   "metadata": {
    "slideshow": {
     "slide_type": "slide"
    }
   },
   "source": [
    "## Files (I/O)"
   ]
  },
  {
   "cell_type": "markdown",
   "metadata": {
    "slideshow": {
     "slide_type": "fragment"
    }
   },
   "source": [
    "File Methods (I/O) are used to read data into Python and/or to store output after processing. The Most important I/O methods are:\n",
    "\n",
    "* `.write()`: writes a String object in a file.\n",
    "* `.read()`: reads a file object and returns a text object.\n",
    "\n",
    "To read and write data the function `open()` creates a file object. The first input determines the filename, the second the mode (`r` for read, `w` for write) and the third input determines the text encoding (e.g. `utf-8`)."
   ]
  },
  {
   "cell_type": "markdown",
   "metadata": {
    "slideshow": {
     "slide_type": "subslide"
    }
   },
   "source": [
    "Change working directory (NEEDS TO BE MODIFIED):"
   ]
  },
  {
   "cell_type": "code",
   "execution_count": null,
   "metadata": {
    "slideshow": {
     "slide_type": "fragment"
    }
   },
   "outputs": [],
   "source": []
  },
  {
   "cell_type": "markdown",
   "metadata": {
    "slideshow": {
     "slide_type": "subslide"
    }
   },
   "source": [
    "Create example list:"
   ]
  },
  {
   "cell_type": "code",
   "execution_count": null,
   "metadata": {
    "slideshow": {
     "slide_type": "fragment"
    }
   },
   "outputs": [],
   "source": [
    "towrite = ['Encoding', 'makes', 'trouble', '€ncôdíng_mäkes_trouble!']"
   ]
  },
  {
   "cell_type": "code",
   "execution_count": null,
   "metadata": {
    "slideshow": {
     "slide_type": "fragment"
    }
   },
   "outputs": [],
   "source": []
  },
  {
   "cell_type": "code",
   "execution_count": null,
   "metadata": {
    "slideshow": {
     "slide_type": "subslide"
    }
   },
   "outputs": [],
   "source": []
  },
  {
   "cell_type": "markdown",
   "metadata": {
    "slideshow": {
     "slide_type": "subslide"
    }
   },
   "source": [
    "### Encoding texts"
   ]
  },
  {
   "cell_type": "markdown",
   "metadata": {
    "slideshow": {
     "slide_type": "fragment"
    }
   },
   "source": [
    "Computers store texts in form of numbers. For each text symbol, e.g. `a` there exists a number through which that symbol is [encoded](https://de.wikipedia.org/wiki/Zeichenkodierung)."
   ]
  },
  {
   "cell_type": "code",
   "execution_count": null,
   "metadata": {
    "scrolled": true,
    "slideshow": {
     "slide_type": "subslide"
    }
   },
   "outputs": [],
   "source": [
    "from IPython.display import IFrame\n",
    "IFrame(\"https://www.asciitable.com/\", width = \"800\", height = \"400\")"
   ]
  },
  {
   "cell_type": "markdown",
   "metadata": {
    "slideshow": {
     "slide_type": "subslide"
    }
   },
   "source": [
    "If a programme receives the instruction to process under the wrong encoding the symbols cannot be processed correctly:"
   ]
  },
  {
   "cell_type": "code",
   "execution_count": null,
   "metadata": {
    "slideshow": {
     "slide_type": "fragment"
    }
   },
   "outputs": [],
   "source": [
    "with open('myfile.txt', 'r', encoding = 'latin-1') as f:\n",
    "    toread = f.read().split('\\n') # split\n",
    "print(toread)"
   ]
  },
  {
   "cell_type": "markdown",
   "metadata": {
    "slideshow": {
     "slide_type": "subslide"
    }
   },
   "source": [
    "Use `utf-8` as standard. If you don't know the original encoding when reading in data, you may have to test different encodings."
   ]
  },
  {
   "cell_type": "markdown",
   "metadata": {
    "slideshow": {
     "slide_type": "slide"
    }
   },
   "source": [
    "## Python packages"
   ]
  },
  {
   "cell_type": "markdown",
   "metadata": {
    "slideshow": {
     "slide_type": "subslide"
    }
   },
   "source": [
    "There exist thousands of additional packages that facilitate and implement particular problems. Especially for Data Scraping we will resort to non-native Python libraries.\n",
    "\n",
    "Additional libraries are activated through the `import` statement. You can either import the entire package or only a particular method from it.\n",
    "\n",
    "Examples: Package [time](https://docs.python.org/3/library/time.html) and function `Counter` from [collections](https://docs.python.org/3/library/collections.html)."
   ]
  },
  {
   "cell_type": "code",
   "execution_count": null,
   "metadata": {
    "slideshow": {
     "slide_type": "fragment"
    }
   },
   "outputs": [],
   "source": [
    "import time\n",
    "from collections import Counter"
   ]
  },
  {
   "cell_type": "markdown",
   "metadata": {
    "slideshow": {
     "slide_type": "subslide"
    }
   },
   "source": [
    "These modules are now available in the `namespace` and can be called:"
   ]
  },
  {
   "cell_type": "code",
   "execution_count": null,
   "metadata": {
    "slideshow": {
     "slide_type": "fragment"
    }
   },
   "outputs": [],
   "source": [
    "print(time.localtime())"
   ]
  },
  {
   "cell_type": "code",
   "execution_count": null,
   "metadata": {
    "slideshow": {
     "slide_type": "subslide"
    }
   },
   "outputs": [],
   "source": [
    "to_count = [1, 2, 3, 1, 7, '2', 4, 6, 9, 2, 7]\n",
    "count_dic = Counter(to_count)\n",
    "print(count_dic)"
   ]
  },
  {
   "cell_type": "markdown",
   "metadata": {
    "slideshow": {
     "slide_type": "subslide"
    }
   },
   "source": [
    "### JSON\n",
    "\n",
    "The Python package [json](https://docs.python.org/3/library/json.html) allows reading and saving of data in the [JavaScript Object Notation](https://de.wikipedia.org/wiki/JavaScript_Object_Notation) format - short `JSON`. The most important functions are `load()` and `dump()`:"
   ]
  },
  {
   "cell_type": "code",
   "execution_count": null,
   "metadata": {
    "slideshow": {
     "slide_type": "fragment"
    }
   },
   "outputs": [],
   "source": [
    "import json\n",
    "nested = {'structured': {'spreadsheets': 'flat', 'json': 'tree'},\n",
    "          'unstructured':  [{'type': 'natural language', 'format': 'txt'}, \n",
    "                              {'type' : 'image', 'format': 'png'}]}\n"
   ]
  },
  {
   "cell_type": "code",
   "execution_count": null,
   "metadata": {
    "slideshow": {
     "slide_type": "subslide"
    }
   },
   "outputs": [],
   "source": []
  },
  {
   "cell_type": "code",
   "execution_count": null,
   "metadata": {
    "slideshow": {
     "slide_type": "subslide"
    }
   },
   "outputs": [],
   "source": []
  },
  {
   "cell_type": "markdown",
   "metadata": {
    "slideshow": {
     "slide_type": "subslide"
    }
   },
   "source": [
    "## Exercise 3\n",
    "\n",
    "Store both Tweets from Exercise 2 using Python I/O and JSON functions locally in your working directory."
   ]
  },
  {
   "cell_type": "code",
   "execution_count": null,
   "metadata": {
    "slideshow": {
     "slide_type": "subslide"
    }
   },
   "outputs": [],
   "source": [
    "# Code for exercise 3\n",
    "\n"
   ]
  },
  {
   "cell_type": "markdown",
   "metadata": {},
   "source": [
    "<br>\n",
    "<br>\n",
    "\n",
    "\n",
    "___\n",
    "\n",
    "                \n",
    "**Contact: Gerome Wolf** (Email: Gerome.Wolf@ecb.europa.eu, wolfgerome@gmail.com)"
   ]
  }
 ],
 "metadata": {
  "kernelspec": {
   "display_name": "Webscraping Workshop",
   "language": "python",
   "name": "webscraping-kernel"
  },
  "language_info": {
   "codemirror_mode": {
    "name": "ipython",
    "version": 3
   },
   "file_extension": ".py",
   "mimetype": "text/x-python",
   "name": "python",
   "nbconvert_exporter": "python",
   "pygments_lexer": "ipython3",
   "version": "3.7.3"
  }
 },
 "nbformat": 4,
 "nbformat_minor": 2
}
